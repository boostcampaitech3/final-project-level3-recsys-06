{
 "cells": [
  {
   "cell_type": "code",
   "execution_count": 63,
   "metadata": {},
   "outputs": [],
   "source": [
    "import pymysql\n",
    "from yaml import load, FullLoader\n",
    "import pandas as pd\n",
    "import time\n",
    "from datetime import datetime\n",
    "import numpy as np\n",
    "from tqdm import tqdm"
   ]
  },
  {
   "cell_type": "code",
   "execution_count": 3,
   "metadata": {},
   "outputs": [],
   "source": [
    "def load_config(config_path:str):\n",
    "    with open(config_path, \"r\") as f:\n",
    "        config = load(f, FullLoader)\n",
    "    return config"
   ]
  },
  {
   "cell_type": "code",
   "execution_count": 4,
   "metadata": {},
   "outputs": [],
   "source": [
    "sset_contract_address = \"0x34d85c9cdeb23fa97cb08333b511ac86e1c4e258\"\n",
    "rec_10 = []\n",
    "\n",
    "config = load_config(config_path=\"dev_config.yaml\")\n",
    "\n",
    "# mysql 연결\n",
    "db_name = config['gcp_db']['database']\n",
    "conn = pymysql.connect(host=config['gcp_db']['host'], user=config['gcp_db']['user'], password=config['gcp_db']['password'], db=db_name, port=config['gcp_db']['port'], charset='utf8')\n",
    "cursor = conn.cursor()\n",
    "\n",
    "cmd = f\"SELECT {db_name}.ITEM.token_id, {db_name}.ITEM.predict_value, {db_name}.PRICE_OFFER.Seller_price, {db_name}.PRICE_OFFER.Seller_price_type, {db_name}.PRICE_OFFER.Buyer_price, {db_name}.PRICE_OFFER.Buyer_price_type \" \\\n",
    "        + f\"from {db_name}.ITEM left join {db_name}.PRICE_OFFER on {db_name}.ITEM.token_id={db_name}.PRICE_OFFER.Token_ID\"\n",
    "        \n",
    "cursor.execute(cmd)\n",
    "data=cursor.fetchall() \n",
    "predict_price = pd.DataFrame(data)\n",
    "\n",
    "# #diff_list = list()\n",
    "# for i in tqdm(range(len(predict_price))):\n",
    "#     token_id, predict_value, seller_price, buyer_price = predict_price.loc[i, :]\n",
    "#     rec_10.put((-(predict_value-max(seller_price, buyer_price)), predict_value, token_id))"
   ]
  },
  {
   "cell_type": "code",
   "execution_count": 25,
   "metadata": {},
   "outputs": [],
   "source": [
    "# apecoin , dai stablecoin 제거\n",
    "# 3은 Seller_price_type, 5는 Buyer_price_type\n",
    "predict_price.loc[predict_price[3]=='ApeCoin',2]=np.nan \n",
    "predict_price.loc[predict_price[5]=='ApeCoin',4]=np.nan\n",
    "predict_price.loc[predict_price[5]=='Dai Stablecoin',4]=np.nan"
   ]
  },
  {
   "cell_type": "code",
   "execution_count": 50,
   "metadata": {},
   "outputs": [],
   "source": [
    "# 둘다 nan인 경우 제거\n",
    "eth_predict_price = predict_price[np.logical_not(np.logical_and(predict_price[2].isna(),predict_price[4].isna()))].loc[:,[0,1,2,4]]"
   ]
  },
  {
   "cell_type": "code",
   "execution_count": 57,
   "metadata": {},
   "outputs": [],
   "source": [
    "# 비교를 위해 nan값 0으로\n",
    "eth_predict_price=eth_predict_price.fillna(0)"
   ]
  },
  {
   "cell_type": "code",
   "execution_count": 67,
   "metadata": {},
   "outputs": [],
   "source": [
    "# 가격 차이 가장 큰거 10개\n",
    "rec10=eth_predict_price.iloc[np.argpartition(eth_predict_price[1]-np.maximum(eth_predict_price[2],eth_predict_price[4]),-10)[-10:],:]"
   ]
  },
  {
   "cell_type": "code",
   "execution_count": 68,
   "metadata": {},
   "outputs": [
    {
     "data": {
      "text/html": [
       "<div>\n",
       "<style scoped>\n",
       "    .dataframe tbody tr th:only-of-type {\n",
       "        vertical-align: middle;\n",
       "    }\n",
       "\n",
       "    .dataframe tbody tr th {\n",
       "        vertical-align: top;\n",
       "    }\n",
       "\n",
       "    .dataframe thead th {\n",
       "        text-align: right;\n",
       "    }\n",
       "</style>\n",
       "<table border=\"1\" class=\"dataframe\">\n",
       "  <thead>\n",
       "    <tr style=\"text-align: right;\">\n",
       "      <th></th>\n",
       "      <th>0</th>\n",
       "      <th>1</th>\n",
       "      <th>2</th>\n",
       "      <th>4</th>\n",
       "    </tr>\n",
       "  </thead>\n",
       "  <tbody>\n",
       "    <tr>\n",
       "      <th>7240</th>\n",
       "      <td>7240</td>\n",
       "      <td>19.3555</td>\n",
       "      <td>0.0</td>\n",
       "      <td>3.0899</td>\n",
       "    </tr>\n",
       "    <tr>\n",
       "      <th>3438</th>\n",
       "      <td>3438</td>\n",
       "      <td>18.3867</td>\n",
       "      <td>0.0</td>\n",
       "      <td>2.0860</td>\n",
       "    </tr>\n",
       "    <tr>\n",
       "      <th>6719</th>\n",
       "      <td>6719</td>\n",
       "      <td>19.5120</td>\n",
       "      <td>0.0</td>\n",
       "      <td>3.0899</td>\n",
       "    </tr>\n",
       "    <tr>\n",
       "      <th>5322</th>\n",
       "      <td>5322</td>\n",
       "      <td>18.6192</td>\n",
       "      <td>0.0</td>\n",
       "      <td>2.1313</td>\n",
       "    </tr>\n",
       "    <tr>\n",
       "      <th>3822</th>\n",
       "      <td>3822</td>\n",
       "      <td>19.6094</td>\n",
       "      <td>0.0</td>\n",
       "      <td>3.0990</td>\n",
       "    </tr>\n",
       "    <tr>\n",
       "      <th>45138</th>\n",
       "      <td>45138</td>\n",
       "      <td>16.5638</td>\n",
       "      <td>0.0</td>\n",
       "      <td>0.0270</td>\n",
       "    </tr>\n",
       "    <tr>\n",
       "      <th>2255</th>\n",
       "      <td>2255</td>\n",
       "      <td>19.6798</td>\n",
       "      <td>0.0</td>\n",
       "      <td>3.0990</td>\n",
       "    </tr>\n",
       "    <tr>\n",
       "      <th>4788</th>\n",
       "      <td>4788</td>\n",
       "      <td>19.7959</td>\n",
       "      <td>0.0</td>\n",
       "      <td>3.0990</td>\n",
       "    </tr>\n",
       "    <tr>\n",
       "      <th>3938</th>\n",
       "      <td>3938</td>\n",
       "      <td>19.2028</td>\n",
       "      <td>0.0</td>\n",
       "      <td>1.8525</td>\n",
       "    </tr>\n",
       "    <tr>\n",
       "      <th>6373</th>\n",
       "      <td>6373</td>\n",
       "      <td>19.7507</td>\n",
       "      <td>0.0</td>\n",
       "      <td>2.1233</td>\n",
       "    </tr>\n",
       "  </tbody>\n",
       "</table>\n",
       "</div>"
      ],
      "text/plain": [
       "           0        1    2       4\n",
       "7240    7240  19.3555  0.0  3.0899\n",
       "3438    3438  18.3867  0.0  2.0860\n",
       "6719    6719  19.5120  0.0  3.0899\n",
       "5322    5322  18.6192  0.0  2.1313\n",
       "3822    3822  19.6094  0.0  3.0990\n",
       "45138  45138  16.5638  0.0  0.0270\n",
       "2255    2255  19.6798  0.0  3.0990\n",
       "4788    4788  19.7959  0.0  3.0990\n",
       "3938    3938  19.2028  0.0  1.8525\n",
       "6373    6373  19.7507  0.0  2.1233"
      ]
     },
     "execution_count": 68,
     "metadata": {},
     "output_type": "execute_result"
    }
   ],
   "source": [
    "# 이런식으로 만들어짐\n",
    "rec10"
   ]
  }
 ],
 "metadata": {
  "interpreter": {
   "hash": "d4d1e4263499bec80672ea0156c357c1ee493ec2b1c70f0acce89fc37c4a6abe"
  },
  "kernelspec": {
   "display_name": "Python 3.8.5 ('base')",
   "language": "python",
   "name": "python3"
  },
  "language_info": {
   "codemirror_mode": {
    "name": "ipython",
    "version": 3
   },
   "file_extension": ".py",
   "mimetype": "text/x-python",
   "name": "python",
   "nbconvert_exporter": "python",
   "pygments_lexer": "ipython3",
   "version": "3.8.5"
  },
  "orig_nbformat": 4
 },
 "nbformat": 4,
 "nbformat_minor": 2
}
